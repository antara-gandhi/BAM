{
  "nbformat": 4,
  "nbformat_minor": 0,
  "metadata": {
    "colab": {
      "name": "Untitled0.ipynb",
      "provenance": [],
      "toc_visible": true,
      "authorship_tag": "ABX9TyN3WECuVucu6yxOpcXQxm6f",
      "include_colab_link": true
    },
    "kernelspec": {
      "name": "python3",
      "display_name": "Python 3"
    }
  },
  "cells": [
    {
      "cell_type": "markdown",
      "metadata": {
        "id": "view-in-github",
        "colab_type": "text"
      },
      "source": [
        "<a href=\"https://colab.research.google.com/github/antara-gandhi/BAM/blob/main/Untitled0.ipynb\" target=\"_parent\"><img src=\"https://colab.research.google.com/assets/colab-badge.svg\" alt=\"Open In Colab\"/></a>"
      ]
    },
    {
      "cell_type": "code",
      "metadata": {
        "colab": {
          "base_uri": "https://localhost:8080/",
          "height": 1000
        },
        "id": "EmJeWXVyn7fi",
        "outputId": "6b64da2a-28d8-4916-825a-23b927c5297c"
      },
      "source": [
        "!pip install web3 flask-ngrok --force-reinstall jsonschema==3.2.0"
      ],
      "execution_count": 3,
      "outputs": [
        {
          "output_type": "stream",
          "text": [
            "Collecting web3\n",
            "  Using cached https://files.pythonhosted.org/packages/88/7b/cf09a314aa4d6c1ea766f05789fbb36c9e7fd21acd5a148a1b2deffcb24f/web3-5.14.0-py3-none-any.whl\n",
            "Collecting flask-ngrok\n",
            "  Using cached https://files.pythonhosted.org/packages/af/6c/f54cb686ad1129e27d125d182f90f52b32f284e6c8df58c1bae54fa1adbc/flask_ngrok-0.0.25-py3-none-any.whl\n",
            "Collecting jsonschema==3.2.0\n",
            "  Using cached https://files.pythonhosted.org/packages/c5/8f/51e89ce52a085483359217bc72cdbf6e75ee595d5b1d4b5ade40c7e018b8/jsonschema-3.2.0-py2.py3-none-any.whl\n",
            "Collecting eth-account<0.6.0,>=0.5.3\n",
            "  Using cached https://files.pythonhosted.org/packages/fe/9d/0fcda867a0d08273eb7eb1f68233540ad5fd30eb14c1724406bd84ce7f14/eth_account-0.5.4-py3-none-any.whl\n",
            "Collecting hexbytes<1.0.0,>=0.1.0\n",
            "  Using cached https://files.pythonhosted.org/packages/ad/29/78d60cb6c308b0f0f672b09d8e4c651e36f497102a8792797253d099bf01/hexbytes-0.2.1-py3-none-any.whl\n",
            "Collecting typing-extensions<4,>=3.7.4.1; python_version < \"3.8\"\n",
            "  Using cached https://files.pythonhosted.org/packages/60/7a/e881b5abb54db0e6e671ab088d079c57ce54e8a01a3ca443f561ccadb37e/typing_extensions-3.7.4.3-py3-none-any.whl\n",
            "Collecting ipfshttpclient==0.7.0a1\n",
            "  Using cached https://files.pythonhosted.org/packages/43/85/e77debad71477195cb67f3e6c84b65d23297c50a5960321909fd812b1e87/ipfshttpclient-0.7.0a1-py3-none-any.whl\n",
            "Collecting eth-hash[pycryptodome]<1.0.0,>=0.2.0\n",
            "  Using cached https://files.pythonhosted.org/packages/0d/d8/0f0c8d4ccaa4c8d25524fd1ed9f5c6d9551b52b74b973f338de3f0a23111/eth_hash-0.2.0-py3-none-any.whl\n",
            "Collecting eth-typing<3.0.0,>=2.0.0\n",
            "  Using cached https://files.pythonhosted.org/packages/cd/2d/a659d04048f99ce2cde74ece197a7a838ce3050c13d7ba2cb1c0dedd9227/eth_typing-2.2.2-py3-none-any.whl\n",
            "Processing /root/.cache/pip/wheels/b7/ef/06/fbdd555907a7d438fb33e4c8675f771ff1cf41917284c51ebf/lru_dict-1.1.6-cp36-cp36m-linux_x86_64.whl\n",
            "Collecting requests<3.0.0,>=2.16.0\n",
            "  Using cached https://files.pythonhosted.org/packages/29/c1/24814557f1d22c56d50280771a17307e6bf87b70727d975fd6b2ce6b014a/requests-2.25.1-py2.py3-none-any.whl\n",
            "Collecting eth-utils<2.0.0,>=1.9.5\n",
            "  Using cached https://files.pythonhosted.org/packages/ae/c3/e91368c743fc2ae26bd89a28348f484329bda17c87d35ffba94e31b74119/eth_utils-1.9.5-py3-none-any.whl\n",
            "Collecting eth-abi<3.0.0,>=2.0.0b6\n",
            "  Using cached https://files.pythonhosted.org/packages/c9/f4/5d8e501d6535e9e9aab6060bdf6890f266af978e182dc569bf31fb1753b6/eth_abi-2.1.1-py3-none-any.whl\n",
            "Collecting protobuf<4,>=3.10.0\n",
            "  Using cached https://files.pythonhosted.org/packages/fe/fd/247ef25f5ec5f9acecfbc98ca3c6aaf66716cf52509aca9a93583d410493/protobuf-3.14.0-cp36-cp36m-manylinux1_x86_64.whl\n",
            "Collecting websockets<9.0.0,>=8.1.0\n",
            "  Using cached https://files.pythonhosted.org/packages/bb/d9/856af84843912e2853b1b6e898ac8b802989fcf9ecf8e8445a1da263bf3b/websockets-8.1-cp36-cp36m-manylinux2010_x86_64.whl\n",
            "Collecting Flask>=0.8\n",
            "  Using cached https://files.pythonhosted.org/packages/f2/28/2a03252dfb9ebf377f40fba6a7841b47083260bf8bd8e737b0c6952df83f/Flask-1.1.2-py2.py3-none-any.whl\n",
            "Processing /root/.cache/pip/wheels/f0/b8/de/b593ad311be4eb458499d100db081e453576032272398b7ddc/pyrsistent-0.17.3-cp36-cp36m-linux_x86_64.whl\n",
            "Collecting attrs>=17.4.0\n",
            "  Using cached https://files.pythonhosted.org/packages/c3/aa/cb45262569fcc047bf070b5de61813724d6726db83259222cd7b4c79821a/attrs-20.3.0-py2.py3-none-any.whl\n",
            "Collecting six>=1.11.0\n",
            "  Using cached https://files.pythonhosted.org/packages/ee/ff/48bde5c0f013094d729fe4b0316ba2a24774b3ff1c52d924a8a4cb04078a/six-1.15.0-py2.py3-none-any.whl\n",
            "Collecting importlib-metadata; python_version < \"3.8\"\n",
            "  Using cached https://files.pythonhosted.org/packages/f3/ed/da40116a204abb5c4dd1d929346d33e0d29cedb2cedd18ea98f0385dcd92/importlib_metadata-3.4.0-py3-none-any.whl\n",
            "Collecting setuptools\n",
            "  Using cached https://files.pythonhosted.org/packages/aa/d4/0089d680a610c7b5afda26c1ae588eb363b9050ccf5f33a8c2d1164210f3/setuptools-51.1.2-py3-none-any.whl\n",
            "Collecting rlp<3,>=1.0.0\n",
            "  Using cached https://files.pythonhosted.org/packages/c2/c6/df00f568091195503708272b3b5a0562b06554c7d2474e0ba7ee43f539f9/rlp-2.0.1-py2.py3-none-any.whl\n",
            "Collecting eth-keyfile<0.6.0,>=0.5.0\n",
            "  Using cached https://files.pythonhosted.org/packages/eb/a5/3615d100b62fbf20fe5d5c0d1d4d7326eac861d260b0cd2a36af2bf8ccb1/eth_keyfile-0.5.1-py3-none-any.whl\n",
            "Collecting eth-rlp<2,>=0.1.2\n",
            "  Using cached https://files.pythonhosted.org/packages/5b/c2/4c0f8846c465213acbf61bb36eacd0a31d5b13ee525480308ef0a224dc01/eth_rlp-0.2.1-py3-none-any.whl\n",
            "Processing /root/.cache/pip/wheels/57/7b/51/0f1c269e1532ef20db3a048b53744690a63e972876d438b496/bitarray-1.2.2-cp36-cp36m-linux_x86_64.whl\n",
            "Collecting eth-keys!=0.3.2,<0.4.0,>=0.2.1\n",
            "  Using cached https://files.pythonhosted.org/packages/a0/42/ee0b1a9e765f234a7689a3cfd99a8475a807f699eefec70e8e5d9d348eda/eth_keys-0.3.3-py3-none-any.whl\n",
            "Collecting multiaddr>=0.0.7\n",
            "  Using cached https://files.pythonhosted.org/packages/51/59/df732566d951c33f00a4022fc5bf9c5d1661b1c2cdaf56e75a1a5fa8f829/multiaddr-0.0.9-py2.py3-none-any.whl\n",
            "Collecting pycryptodome<4,>=3.6.6; extra == \"pycryptodome\"\n",
            "  Using cached https://files.pythonhosted.org/packages/2b/6f/7e38d7c97fbbc3987539c804282c33f56b6b07381bf2390deead696440c5/pycryptodome-3.9.9-cp36-cp36m-manylinux1_x86_64.whl\n",
            "Collecting chardet<5,>=3.0.2\n",
            "  Using cached https://files.pythonhosted.org/packages/19/c7/fa589626997dd07bd87d9269342ccb74b1720384a4d739a1872bd84fbe68/chardet-4.0.0-py2.py3-none-any.whl\n",
            "Collecting urllib3<1.27,>=1.21.1\n",
            "  Using cached https://files.pythonhosted.org/packages/f5/71/45d36a8df68f3ebb098d6861b2c017f3d094538c0fb98fa61d4dc43e69b9/urllib3-1.26.2-py2.py3-none-any.whl\n",
            "Collecting idna<3,>=2.5\n",
            "  Using cached https://files.pythonhosted.org/packages/a2/38/928ddce2273eaa564f6f50de919327bf3a00f091b5baba8dfa9460f3a8a8/idna-2.10-py2.py3-none-any.whl\n",
            "Collecting certifi>=2017.4.17\n",
            "  Using cached https://files.pythonhosted.org/packages/5e/a0/5f06e1e1d463903cf0c0eebeb751791119ed7a4b3737fdc9a77f1cdfb51f/certifi-2020.12.5-py2.py3-none-any.whl\n",
            "Processing /root/.cache/pip/wheels/a1/32/3c/9c9926b510647cacdde744b2c7acdf1ccd5896fbb7f8d5df0c/cytoolz-0.11.0-cp36-cp36m-linux_x86_64.whl\n",
            "Processing /root/.cache/pip/wheels/b7/8d/e7/a0e74217da5caeb3c1c7689639b6d28ddbf9985b840bc96a9a/parsimonious-0.8.1-cp36-none-any.whl\n",
            "Collecting itsdangerous>=0.24\n",
            "  Using cached https://files.pythonhosted.org/packages/76/ae/44b03b253d6fade317f32c24d100b3b35c2239807046a4c953c7b89fa49e/itsdangerous-1.1.0-py2.py3-none-any.whl\n",
            "Collecting Jinja2>=2.10.1\n",
            "  Using cached https://files.pythonhosted.org/packages/30/9e/f663a2aa66a09d838042ae1a2c5659828bb9b41ea3a6efa20a20fd92b121/Jinja2-2.11.2-py2.py3-none-any.whl\n",
            "Collecting click>=5.1\n",
            "  Using cached https://files.pythonhosted.org/packages/d2/3d/fa76db83bf75c4f8d338c2fd15c8d33fdd7ad23a9b5e57eb6c5de26b430e/click-7.1.2-py2.py3-none-any.whl\n",
            "Collecting Werkzeug>=0.15\n",
            "  Using cached https://files.pythonhosted.org/packages/cc/94/5f7079a0e00bd6863ef8f1da638721e9da21e5bacee597595b318f71d62e/Werkzeug-1.0.1-py2.py3-none-any.whl\n",
            "Collecting zipp>=0.5\n",
            "  Using cached https://files.pythonhosted.org/packages/41/ad/6a4f1a124b325618a7fb758b885b68ff7b058eec47d9220a12ab38d90b1f/zipp-3.4.0-py3-none-any.whl\n",
            "Collecting base58\n",
            "  Using cached https://files.pythonhosted.org/packages/b8/a1/d9f565e9910c09fd325dc638765e8843a19fa696275c16cc08cf3b0a3c25/base58-2.1.0-py3-none-any.whl\n",
            "Collecting netaddr\n",
            "  Using cached https://files.pythonhosted.org/packages/ff/cd/9cdfea8fc45c56680b798db6a55fa60a22e2d3d3ccf54fc729d083b50ce4/netaddr-0.8.0-py2.py3-none-any.whl\n",
            "Processing /root/.cache/pip/wheels/87/62/fe/15e506bdde650fdd4e63d3eb91a1c3582ff1ee450e88e89d9e/varint-1.0.2-cp36-none-any.whl\n",
            "Collecting toolz>=0.8.0\n",
            "  Using cached https://files.pythonhosted.org/packages/12/f5/537e55f8ba664ff2a26f26913010fb0fcb98b6bbadc6158af888184fd0b7/toolz-0.11.1-py3-none-any.whl\n",
            "Collecting MarkupSafe>=0.23\n",
            "  Using cached https://files.pythonhosted.org/packages/b2/5f/23e0023be6bb885d00ffbefad2942bc51a620328ee910f64abe5a8d18dd1/MarkupSafe-1.1.1-cp36-cp36m-manylinux1_x86_64.whl\n",
            "Collecting importlib-resources; python_version < \"3.7\"\n",
            "  Using cached https://files.pythonhosted.org/packages/c6/c9/c267e6ff93460c0f467f243e2144b46d5c409c339d31d587d5d98def49e5/importlib_resources-5.0.0-py3-none-any.whl\n",
            "\u001b[31mERROR: nbclient 0.5.1 has requirement jupyter-client>=6.1.5, but you'll have jupyter-client 5.3.5 which is incompatible.\u001b[0m\n",
            "\u001b[31mERROR: google-colab 1.0.0 has requirement requests~=2.23.0, but you'll have requests 2.25.1 which is incompatible.\u001b[0m\n",
            "\u001b[31mERROR: datascience 0.10.6 has requirement folium==0.2.1, but you'll have folium 0.8.3 which is incompatible.\u001b[0m\n",
            "\u001b[31mERROR: albumentations 0.1.12 has requirement imgaug<0.2.7,>=0.2.5, but you'll have imgaug 0.2.9 which is incompatible.\u001b[0m\n",
            "Installing collected packages: eth-typing, toolz, cytoolz, pycryptodome, eth-hash, eth-utils, rlp, eth-keys, eth-keyfile, hexbytes, eth-rlp, six, parsimonious, eth-abi, bitarray, eth-account, typing-extensions, base58, zipp, importlib-resources, netaddr, varint, multiaddr, chardet, urllib3, idna, certifi, requests, ipfshttpclient, lru-dict, pyrsistent, attrs, importlib-metadata, setuptools, jsonschema, protobuf, websockets, web3, itsdangerous, MarkupSafe, Jinja2, click, Werkzeug, Flask, flask-ngrok\n",
            "  Found existing installation: eth-typing 2.2.2\n",
            "    Uninstalling eth-typing-2.2.2:\n",
            "      Successfully uninstalled eth-typing-2.2.2\n",
            "  Found existing installation: toolz 0.11.1\n",
            "    Uninstalling toolz-0.11.1:\n",
            "      Successfully uninstalled toolz-0.11.1\n",
            "  Found existing installation: cytoolz 0.11.0\n",
            "    Uninstalling cytoolz-0.11.0:\n",
            "      Successfully uninstalled cytoolz-0.11.0\n",
            "  Found existing installation: pycryptodome 3.9.9\n",
            "    Uninstalling pycryptodome-3.9.9:\n",
            "      Successfully uninstalled pycryptodome-3.9.9\n",
            "  Found existing installation: eth-hash 0.2.0\n",
            "    Uninstalling eth-hash-0.2.0:\n",
            "      Successfully uninstalled eth-hash-0.2.0\n",
            "  Found existing installation: eth-utils 1.9.5\n",
            "    Uninstalling eth-utils-1.9.5:\n",
            "      Successfully uninstalled eth-utils-1.9.5\n",
            "  Found existing installation: rlp 2.0.1\n",
            "    Uninstalling rlp-2.0.1:\n",
            "      Successfully uninstalled rlp-2.0.1\n",
            "  Found existing installation: eth-keys 0.3.3\n",
            "    Uninstalling eth-keys-0.3.3:\n",
            "      Successfully uninstalled eth-keys-0.3.3\n",
            "  Found existing installation: eth-keyfile 0.5.1\n",
            "    Uninstalling eth-keyfile-0.5.1:\n",
            "      Successfully uninstalled eth-keyfile-0.5.1\n",
            "  Found existing installation: hexbytes 0.2.1\n",
            "    Uninstalling hexbytes-0.2.1:\n",
            "      Successfully uninstalled hexbytes-0.2.1\n",
            "  Found existing installation: eth-rlp 0.2.1\n",
            "    Uninstalling eth-rlp-0.2.1:\n",
            "      Successfully uninstalled eth-rlp-0.2.1\n",
            "  Found existing installation: six 1.15.0\n",
            "    Uninstalling six-1.15.0:\n",
            "      Successfully uninstalled six-1.15.0\n",
            "  Found existing installation: parsimonious 0.8.1\n",
            "    Uninstalling parsimonious-0.8.1:\n",
            "      Successfully uninstalled parsimonious-0.8.1\n",
            "  Found existing installation: eth-abi 2.1.1\n",
            "    Uninstalling eth-abi-2.1.1:\n",
            "      Successfully uninstalled eth-abi-2.1.1\n",
            "  Found existing installation: bitarray 1.2.2\n",
            "    Uninstalling bitarray-1.2.2:\n",
            "      Successfully uninstalled bitarray-1.2.2\n",
            "  Found existing installation: eth-account 0.5.4\n",
            "    Uninstalling eth-account-0.5.4:\n",
            "      Successfully uninstalled eth-account-0.5.4\n",
            "  Found existing installation: typing-extensions 3.7.4.3\n",
            "    Uninstalling typing-extensions-3.7.4.3:\n",
            "      Successfully uninstalled typing-extensions-3.7.4.3\n",
            "  Found existing installation: base58 2.1.0\n",
            "    Uninstalling base58-2.1.0:\n",
            "      Successfully uninstalled base58-2.1.0\n",
            "  Found existing installation: zipp 3.4.0\n",
            "    Uninstalling zipp-3.4.0:\n",
            "      Successfully uninstalled zipp-3.4.0\n",
            "  Found existing installation: importlib-resources 5.0.0\n",
            "    Uninstalling importlib-resources-5.0.0:\n",
            "      Successfully uninstalled importlib-resources-5.0.0\n",
            "  Found existing installation: netaddr 0.8.0\n",
            "    Uninstalling netaddr-0.8.0:\n",
            "      Successfully uninstalled netaddr-0.8.0\n",
            "  Found existing installation: varint 1.0.2\n",
            "    Uninstalling varint-1.0.2:\n",
            "      Successfully uninstalled varint-1.0.2\n",
            "  Found existing installation: multiaddr 0.0.9\n",
            "    Uninstalling multiaddr-0.0.9:\n",
            "      Successfully uninstalled multiaddr-0.0.9\n",
            "  Found existing installation: chardet 4.0.0\n",
            "    Uninstalling chardet-4.0.0:\n",
            "      Successfully uninstalled chardet-4.0.0\n",
            "  Found existing installation: urllib3 1.26.2\n",
            "    Uninstalling urllib3-1.26.2:\n",
            "      Successfully uninstalled urllib3-1.26.2\n",
            "  Found existing installation: idna 2.10\n",
            "    Uninstalling idna-2.10:\n",
            "      Successfully uninstalled idna-2.10\n",
            "  Found existing installation: certifi 2020.12.5\n",
            "    Uninstalling certifi-2020.12.5:\n",
            "      Successfully uninstalled certifi-2020.12.5\n",
            "  Found existing installation: requests 2.25.1\n",
            "    Uninstalling requests-2.25.1:\n",
            "      Successfully uninstalled requests-2.25.1\n",
            "  Found existing installation: ipfshttpclient 0.7.0a1\n",
            "    Uninstalling ipfshttpclient-0.7.0a1:\n",
            "      Successfully uninstalled ipfshttpclient-0.7.0a1\n",
            "  Found existing installation: lru-dict 1.1.6\n",
            "    Uninstalling lru-dict-1.1.6:\n",
            "      Successfully uninstalled lru-dict-1.1.6\n",
            "  Found existing installation: pyrsistent 0.17.3\n",
            "    Uninstalling pyrsistent-0.17.3:\n",
            "      Successfully uninstalled pyrsistent-0.17.3\n",
            "  Found existing installation: attrs 20.3.0\n",
            "    Uninstalling attrs-20.3.0:\n",
            "      Successfully uninstalled attrs-20.3.0\n",
            "  Found existing installation: importlib-metadata 3.4.0\n",
            "    Uninstalling importlib-metadata-3.4.0:\n",
            "      Successfully uninstalled importlib-metadata-3.4.0\n",
            "  Found existing installation: setuptools 51.1.2\n",
            "    Uninstalling setuptools-51.1.2:\n",
            "      Successfully uninstalled setuptools-51.1.2\n",
            "  Found existing installation: jsonschema 3.2.0\n",
            "    Uninstalling jsonschema-3.2.0:\n",
            "      Successfully uninstalled jsonschema-3.2.0\n",
            "  Found existing installation: protobuf 3.14.0\n",
            "    Uninstalling protobuf-3.14.0:\n",
            "      Successfully uninstalled protobuf-3.14.0\n",
            "  Found existing installation: websockets 8.1\n",
            "    Uninstalling websockets-8.1:\n",
            "      Successfully uninstalled websockets-8.1\n",
            "  Found existing installation: web3 5.14.0\n",
            "    Uninstalling web3-5.14.0:\n",
            "      Successfully uninstalled web3-5.14.0\n",
            "  Found existing installation: itsdangerous 1.1.0\n",
            "    Uninstalling itsdangerous-1.1.0:\n",
            "      Successfully uninstalled itsdangerous-1.1.0\n",
            "  Found existing installation: MarkupSafe 1.1.1\n",
            "    Uninstalling MarkupSafe-1.1.1:\n",
            "      Successfully uninstalled MarkupSafe-1.1.1\n",
            "  Found existing installation: Jinja2 2.11.2\n",
            "    Uninstalling Jinja2-2.11.2:\n",
            "      Successfully uninstalled Jinja2-2.11.2\n",
            "  Found existing installation: click 7.1.2\n",
            "    Uninstalling click-7.1.2:\n",
            "      Successfully uninstalled click-7.1.2\n",
            "  Found existing installation: Werkzeug 1.0.1\n",
            "    Uninstalling Werkzeug-1.0.1:\n",
            "      Successfully uninstalled Werkzeug-1.0.1\n",
            "  Found existing installation: Flask 1.1.2\n",
            "    Uninstalling Flask-1.1.2:\n",
            "      Successfully uninstalled Flask-1.1.2\n",
            "  Found existing installation: flask-ngrok 0.0.25\n",
            "    Uninstalling flask-ngrok-0.0.25:\n",
            "      Successfully uninstalled flask-ngrok-0.0.25\n",
            "Successfully installed Flask-1.1.2 Jinja2-2.11.2 MarkupSafe-1.1.1 Werkzeug-1.0.1 attrs-20.3.0 base58-2.1.0 bitarray-1.2.2 certifi-2020.12.5 chardet-4.0.0 click-7.1.2 cytoolz-0.11.0 eth-abi-2.1.1 eth-account-0.5.4 eth-hash-0.2.0 eth-keyfile-0.5.1 eth-keys-0.3.3 eth-rlp-0.2.1 eth-typing-2.2.2 eth-utils-1.9.5 flask-ngrok-0.0.25 hexbytes-0.2.1 idna-2.10 importlib-metadata-3.4.0 importlib-resources-5.0.0 ipfshttpclient-0.7.0a1 itsdangerous-1.1.0 jsonschema-3.2.0 lru-dict-1.1.6 multiaddr-0.0.9 netaddr-0.8.0 parsimonious-0.8.1 protobuf-3.14.0 pycryptodome-3.9.9 pyrsistent-0.17.3 requests-2.25.1 rlp-2.0.1 setuptools-51.1.2 six-1.15.0 toolz-0.11.1 typing-extensions-3.7.4.3 urllib3-1.26.2 varint-1.0.2 web3-5.14.0 websockets-8.1 zipp-3.4.0\n"
          ],
          "name": "stdout"
        },
        {
          "output_type": "display_data",
          "data": {
            "application/vnd.colab-display-data+json": {
              "pip_warning": {
                "packages": [
                  "google",
                  "pkg_resources",
                  "six"
                ]
              }
            }
          },
          "metadata": {
            "tags": []
          }
        }
      ]
    },
    {
      "cell_type": "code",
      "metadata": {
        "id": "av5sz58hp9vk"
      },
      "source": [
        "import web3\r\n",
        "import json"
      ],
      "execution_count": 4,
      "outputs": []
    },
    {
      "cell_type": "code",
      "metadata": {
        "colab": {
          "base_uri": "https://localhost:8080/"
        },
        "id": "vdAeYA4WqAXb",
        "outputId": "baf6acf0-7bf4-4f15-94c3-a3bc4116484a"
      },
      "source": [
        "url = 'https://sandbox.truffleteams.com/8f7572d1-e253-420a-93bc-2ed8a6f051e6'\r\n",
        "w3 = web3.Web3(web3.HTTPProvider(url))\r\n",
        "w3.eth.defaultAccount = w3.eth.accounts[0]\r\n",
        "\r\n",
        "path = '/content/abi.txt'\r\n",
        "with open(path) as f:\r\n",
        "    abi = json.load(f)\r\n",
        "\r\n",
        "path = '/content/bytecode.txt'\r\n",
        "with open(path) as f:\r\n",
        "    bytecode = json.load(f)['object']\r\n",
        "\r\n",
        "abi, bytecode\r\n"
      ],
      "execution_count": 5,
      "outputs": [
        {
          "output_type": "execute_result",
          "data": {
            "text/plain": [
              "([{'inputs': [{'internalType': 'bytes32[]',\n",
              "     'name': 'proposalNames',\n",
              "     'type': 'bytes32[]'}],\n",
              "   'stateMutability': 'nonpayable',\n",
              "   'type': 'constructor'},\n",
              "  {'inputs': [],\n",
              "   'name': 'chairperson',\n",
              "   'outputs': [{'internalType': 'address', 'name': '', 'type': 'address'}],\n",
              "   'stateMutability': 'view',\n",
              "   'type': 'function'},\n",
              "  {'inputs': [{'internalType': 'address', 'name': 'to', 'type': 'address'}],\n",
              "   'name': 'delegate',\n",
              "   'outputs': [],\n",
              "   'stateMutability': 'nonpayable',\n",
              "   'type': 'function'},\n",
              "  {'inputs': [{'internalType': 'address', 'name': 'voter', 'type': 'address'}],\n",
              "   'name': 'giveRightToVote',\n",
              "   'outputs': [],\n",
              "   'stateMutability': 'nonpayable',\n",
              "   'type': 'function'},\n",
              "  {'inputs': [{'internalType': 'uint256', 'name': '', 'type': 'uint256'}],\n",
              "   'name': 'proposals',\n",
              "   'outputs': [{'internalType': 'bytes32', 'name': 'name', 'type': 'bytes32'},\n",
              "    {'internalType': 'uint256', 'name': 'voteCount', 'type': 'uint256'}],\n",
              "   'stateMutability': 'view',\n",
              "   'type': 'function'},\n",
              "  {'inputs': [{'internalType': 'uint256',\n",
              "     'name': 'proposal',\n",
              "     'type': 'uint256'}],\n",
              "   'name': 'vote',\n",
              "   'outputs': [],\n",
              "   'stateMutability': 'nonpayable',\n",
              "   'type': 'function'},\n",
              "  {'inputs': [{'internalType': 'address', 'name': '', 'type': 'address'}],\n",
              "   'name': 'voters',\n",
              "   'outputs': [{'internalType': 'uint256',\n",
              "     'name': 'weight',\n",
              "     'type': 'uint256'},\n",
              "    {'internalType': 'bool', 'name': 'voted', 'type': 'bool'},\n",
              "    {'internalType': 'address', 'name': 'delegate', 'type': 'address'},\n",
              "    {'internalType': 'uint256', 'name': 'vote', 'type': 'uint256'}],\n",
              "   'stateMutability': 'view',\n",
              "   'type': 'function'},\n",
              "  {'inputs': [],\n",
              "   'name': 'winnerName',\n",
              "   'outputs': [{'internalType': 'bytes32',\n",
              "     'name': 'winnerName_',\n",
              "     'type': 'bytes32'}],\n",
              "   'stateMutability': 'view',\n",
              "   'type': 'function'},\n",
              "  {'inputs': [],\n",
              "   'name': 'winningProposal',\n",
              "   'outputs': [{'internalType': 'uint256',\n",
              "     'name': 'winningProposal_',\n",
              "     'type': 'uint256'}],\n",
              "   'stateMutability': 'view',\n",
              "   'type': 'function'}],\n",
              " '608060405234801561001057600080fd5b50604051610df4380380610df48339818101604052602081101561003357600080fd5b810190808051604051939291908464010000000082111561005357600080fd5b8382019150602082018581111561006957600080fd5b825186602082028301116401000000008211171561008657600080fd5b8083526020830192505050908051906020019060200280838360005b838110156100bd5780820151818401526020810190506100a2565b50505050905001604052505050336000806101000a81548173ffffffffffffffffffffffffffffffffffffffff021916908373ffffffffffffffffffffffffffffffffffffffff16021790555060018060008060009054906101000a900473ffffffffffffffffffffffffffffffffffffffff1673ffffffffffffffffffffffffffffffffffffffff1673ffffffffffffffffffffffffffffffffffffffff1681526020019081526020016000206000018190555060005b81518110156101f5576002604051806040016040528084848151811061019757fe5b6020026020010151815260200160008152509080600181540180825580915050600190039060005260206000209060020201600090919091909150600082015181600001556020820151816001015550508080600101915050610175565b5050610bee806102066000396000f3fe608060405234801561001057600080fd5b50600436106100885760003560e01c8063609ff1bd1161005b578063609ff1bd1461017c5780639e7b8d611461019a578063a3ec138d146101de578063e2ba53f01461026357610088565b80630121b93f1461008d578063013cf08b146100bb5780632e4176cf146101045780635c19a95c14610138575b600080fd5b6100b9600480360360208110156100a357600080fd5b8101908080359060200190929190505050610281565b005b6100e7600480360360208110156100d157600080fd5b810190808035906020019092919050505061041e565b604051808381526020018281526020019250505060405180910390f35b61010c610452565b604051808273ffffffffffffffffffffffffffffffffffffffff16815260200191505060405180910390f35b61017a6004803603602081101561014e57600080fd5b81019080803573ffffffffffffffffffffffffffffffffffffffff169060200190929190505050610476565b005b610184610892565b6040518082815260200191505060405180910390f35b6101dc600480360360208110156101b057600080fd5b81019080803573ffffffffffffffffffffffffffffffffffffffff169060200190929190505050610906565b005b610220600480360360208110156101f457600080fd5b81019080803573ffffffffffffffffffffffffffffffffffffffff169060200190929190505050610b06565b6040518085815260200184151581526020018373ffffffffffffffffffffffffffffffffffffffff16815260200182815260200194505050505060405180910390f35b61026b610b63565b6040518082815260200191505060405180910390f35b6000600160003373ffffffffffffffffffffffffffffffffffffffff1673ffffffffffffffffffffffffffffffffffffffff168152602001908152602001600020905060008160000154141561033f576040517f08c379a00000000000000000000000000000000000000000000000000000000081526004018080602001828103825260148152602001807f486173206e6f20726967687420746f20766f746500000000000000000000000081525060200191505060405180910390fd5b8060010160009054906101000a900460ff16156103c4576040517f08c379a000000000000000000000000000000000000000000000000000000000815260040180806020018281038252600e8152602001807f416c726561647920766f7465642e00000000000000000000000000000000000081525060200191505060405180910390fd5b60018160010160006101000a81548160ff0219169083151502179055508181600201819055508060000154600283815481106103fc57fe5b9060005260206000209060020201600101600082825401925050819055505050565b6002818154811061042e57600080fd5b90600052602060002090600202016000915090508060000154908060010154905082565b60008054906101000a900473ffffffffffffffffffffffffffffffffffffffff1681565b6000600160003373ffffffffffffffffffffffffffffffffffffffff1673ffffffffffffffffffffffffffffffffffffffff16815260200190815260200160002090508060010160009054906101000a900460ff161561053e576040517f08c379a00000000000000000000000000000000000000000000000000000000081526004018080602001828103825260128152602001807f596f7520616c726561647920766f7465642e000000000000000000000000000081525060200191505060405180910390fd5b3373ffffffffffffffffffffffffffffffffffffffff168273ffffffffffffffffffffffffffffffffffffffff1614156105e0576040517f08c379a000000000000000000000000000000000000000000000000000000000815260040180806020018281038252601e8152602001807f53656c662d64656c65676174696f6e20697320646973616c6c6f7765642e000081525060200191505060405180910390fd5b5b600073ffffffffffffffffffffffffffffffffffffffff16600160008473ffffffffffffffffffffffffffffffffffffffff1673ffffffffffffffffffffffffffffffffffffffff16815260200190815260200160002060010160019054906101000a900473ffffffffffffffffffffffffffffffffffffffff1673ffffffffffffffffffffffffffffffffffffffff161461078357600160008373ffffffffffffffffffffffffffffffffffffffff1673ffffffffffffffffffffffffffffffffffffffff16815260200190815260200160002060010160019054906101000a900473ffffffffffffffffffffffffffffffffffffffff1691503373ffffffffffffffffffffffffffffffffffffffff168273ffffffffffffffffffffffffffffffffffffffff16141561077e576040517f08c379a00000000000000000000000000000000000000000000000000000000081526004018080602001828103825260198152602001807f466f756e64206c6f6f7020696e2064656c65676174696f6e2e0000000000000081525060200191505060405180910390fd5b6105e1565b60018160010160006101000a81548160ff021916908315150217905550818160010160016101000a81548173ffffffffffffffffffffffffffffffffffffffff021916908373ffffffffffffffffffffffffffffffffffffffff1602179055506000600160008473ffffffffffffffffffffffffffffffffffffffff1673ffffffffffffffffffffffffffffffffffffffff16815260200190815260200160002090508060010160009054906101000a900460ff1615610876578160000154600282600201548154811061085357fe5b90600052602060002090600202016001016000828254019250508190555061088d565b816000015481600001600082825401925050819055505b505050565b6000806000905060005b6002805490508110156109015781600282815481106108b757fe5b90600052602060002090600202016001015411156108f457600281815481106108dc57fe5b90600052602060002090600202016001015491508092505b808060010191505061089c565b505090565b60008054906101000a900473ffffffffffffffffffffffffffffffffffffffff1673ffffffffffffffffffffffffffffffffffffffff163373ffffffffffffffffffffffffffffffffffffffff16146109aa576040517f08c379a0000000000000000000000000000000000000000000000000000000008152600401808060200182810382526028815260200180610b916028913960400191505060405180910390fd5b600160008273ffffffffffffffffffffffffffffffffffffffff1673ffffffffffffffffffffffffffffffffffffffff16815260200190815260200160002060010160009054906101000a900460ff1615610a6d576040517f08c379a00000000000000000000000000000000000000000000000000000000081526004018080602001828103825260188152602001807f54686520766f74657220616c726561647920766f7465642e000000000000000081525060200191505060405180910390fd5b6000600160008373ffffffffffffffffffffffffffffffffffffffff1673ffffffffffffffffffffffffffffffffffffffff1681526020019081526020016000206000015414610abc57600080fd5b60018060008373ffffffffffffffffffffffffffffffffffffffff1673ffffffffffffffffffffffffffffffffffffffff1681526020019081526020016000206000018190555050565b60016020528060005260406000206000915090508060000154908060010160009054906101000a900460ff16908060010160019054906101000a900473ffffffffffffffffffffffffffffffffffffffff16908060020154905084565b60006002610b6f610892565b81548110610b7957fe5b90600052602060002090600202016000015490509056fe4f6e6c79206368616972706572736f6e2063616e206769766520726967687420746f20766f74652ea26469706673582212203c82cf17176e193918b3d4b23d1f78e097e7230a3ae2bf885a270fb9f3e8355e64736f6c63430007040033')"
            ]
          },
          "metadata": {
            "tags": []
          },
          "execution_count": 5
        }
      ]
    },
    {
      "cell_type": "code",
      "metadata": {
        "id": "7l9sUR8Eq40J"
      },
      "source": [
        "Greeter = w3.eth.contract(\r\n",
        "    abi=abi, \r\n",
        "    bytecode=bytecode\r\n",
        ")\r\n",
        "proposals = [x.encode('utf8') for x in 'vanilla chocolate chocolatechip strawberry butterpecan'.split()]\r\n",
        "tx_hash = Greeter.constructor(proposals).transact()\r\n",
        "tx_receipt = w3.eth.waitForTransactionReceipt(tx_hash)\r\n",
        "contract = w3.eth.contract(\r\n",
        "    address=tx_receipt.contractAddress,\r\n",
        "    abi=abi\r\n",
        ")\r\n"
      ],
      "execution_count": 6,
      "outputs": []
    },
    {
      "cell_type": "code",
      "metadata": {
        "id": "mm6RfeF8sPDD"
      },
      "source": [
        ""
      ],
      "execution_count": null,
      "outputs": []
    },
    {
      "cell_type": "code",
      "metadata": {
        "colab": {
          "base_uri": "https://localhost:8080/"
        },
        "id": "f2Xd2IefrD2N",
        "outputId": "0a728bac-14ea-420a-bf1f-05353cd62748"
      },
      "source": [
        "from flask_ngrok import run_with_ngrok\r\n",
        "from flask import *\r\n",
        "\r\n",
        "app = Flask(__name__)\r\n",
        "run_with_ngrok(app)   #starts ngrok when the app is run\r\n",
        "\r\n",
        "@app.route(\"/\", methods=['GET', 'POST'])\r\n",
        "def home():\r\n",
        "    return render_template()\r\n",
        "  \r\n",
        "app.run()\r\n"
      ],
      "execution_count": null,
      "outputs": [
        {
          "output_type": "stream",
          "text": [
            " * Serving Flask app \"__main__\" (lazy loading)\n",
            " * Environment: production\n",
            "\u001b[31m   WARNING: This is a development server. Do not use it in a production deployment.\u001b[0m\n",
            "\u001b[2m   Use a production WSGI server instead.\u001b[0m\n",
            " * Debug mode: off\n"
          ],
          "name": "stdout"
        },
        {
          "output_type": "stream",
          "text": [
            " * Running on http://127.0.0.1:5000/ (Press CTRL+C to quit)\n"
          ],
          "name": "stderr"
        },
        {
          "output_type": "stream",
          "text": [
            " * Running on http://298301582daa.ngrok.io\n",
            " * Traffic stats available on http://127.0.0.1:4040\n"
          ],
          "name": "stdout"
        }
      ]
    }
  ]
}